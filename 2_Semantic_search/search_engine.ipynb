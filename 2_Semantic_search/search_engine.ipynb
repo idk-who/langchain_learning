{
 "cells": [
  {
   "cell_type": "markdown",
   "metadata": {},
   "source": [
    "# Documents and Document Loaders"
   ]
  },
  {
   "cell_type": "code",
   "execution_count": 1,
   "metadata": {},
   "outputs": [],
   "source": [
    "from langchain_core.documents import Document"
   ]
  },
  {
   "cell_type": "code",
   "execution_count": 2,
   "metadata": {},
   "outputs": [],
   "source": [
    "documents = [\n",
    "    Document(\n",
    "        page_content=\"Dogs are great companions, known for their loyalty and friendliness.\",\n",
    "        metadata={\"source\": \"mammal-pets-doc\"},\n",
    "    ),\n",
    "    Document(\n",
    "        page_content=\"Cats are independent pets that often enjoy their own space.\",\n",
    "        metadata={\"source\": \"mammal-pets-doc\"},\n",
    "    ),\n",
    "]"
   ]
  },
  {
   "cell_type": "code",
   "execution_count": 3,
   "metadata": {},
   "outputs": [],
   "source": [
    "from langchain_community.document_loaders import UnstructuredXMLLoader"
   ]
  },
  {
   "cell_type": "code",
   "execution_count": 4,
   "metadata": {},
   "outputs": [],
   "source": [
    "file_path = \"C:/Users/Aaditya_More/Downloads/coding_dell/rag-main/cleaned_xml.xml\""
   ]
  },
  {
   "cell_type": "code",
   "execution_count": 5,
   "metadata": {},
   "outputs": [],
   "source": [
    "loader = UnstructuredXMLLoader(file_path)"
   ]
  },
  {
   "cell_type": "code",
   "execution_count": 6,
   "metadata": {},
   "outputs": [],
   "source": [
    "docs = loader.load()"
   ]
  },
  {
   "cell_type": "code",
   "execution_count": 7,
   "metadata": {},
   "outputs": [
    {
     "data": {
      "text/plain": [
       "{'source': 'C:/Users/Aaditya_More/Downloads/coding_dell/rag-main/cleaned_xml.xml'}"
      ]
     },
     "execution_count": 7,
     "metadata": {},
     "output_type": "execute_result"
    }
   ],
   "source": [
    "docs[0].metadata"
   ]
  },
  {
   "cell_type": "code",
   "execution_count": null,
   "metadata": {},
   "outputs": [],
   "source": []
  },
  {
   "cell_type": "markdown",
   "metadata": {},
   "source": [
    "# Splitting"
   ]
  },
  {
   "cell_type": "code",
   "execution_count": 8,
   "metadata": {},
   "outputs": [],
   "source": [
    "from langchain_text_splitters import RecursiveCharacterTextSplitter"
   ]
  },
  {
   "cell_type": "code",
   "execution_count": 9,
   "metadata": {},
   "outputs": [],
   "source": [
    "text_splitter = RecursiveCharacterTextSplitter(\n",
    "    chunk_size=1000, chunk_overlap=200, add_start_index=True\n",
    ")"
   ]
  },
  {
   "cell_type": "code",
   "execution_count": 10,
   "metadata": {},
   "outputs": [],
   "source": [
    "all_splits = text_splitter.split_documents(docs)"
   ]
  },
  {
   "cell_type": "code",
   "execution_count": 11,
   "metadata": {},
   "outputs": [
    {
     "data": {
      "text/plain": [
       "Document(metadata={'source': 'C:/Users/Aaditya_More/Downloads/coding_dell/rag-main/cleaned_xml.xml', 'start_index': 0}, page_content='2.5.46\\n\\n89.3.1\\n\\nLatitude 9420\\n\\nSetup\\n\\nUEFIBO\\n\\n0\\n\\n5\\n\\nWindows Boot Manager\\n\\n0\\n\\nInternal UEFI Shell\\n\\n1\\n\\nUEFI PM991a NVMe Samsung 128GB S65YNE0R113210 1\\n\\n6\\n\\nUEFI PM991a NVMe Samsung 128GB S65YNE0R113210 1 2\\n\\n7\\n\\nDUAFBOOT\\n\\n2\\n\\nUEFI HTTPs Boot\\n\\nAdminPassword\\n\\n[RegEx:^\\\\\\\\133\\\\\\\\x20-\\\\\\\\x7e\\\\\\\\135{0,32}$]\\n\\n0\\n\\nAdmin Password\\n\\nSystemPassword\\n\\n[RegEx:^\\\\\\\\133\\\\\\\\x20-\\\\\\\\x7e\\\\\\\\135{0,32}$]\\n\\n0\\n\\nSystem Password\\n\\nPxeBootPriority\\n\\n0\\n\\nEnable PXE Boot Priority\\n\\nWhen this option is enabled: If a new PXE boot option is detected, it will be added to the top of the Boot Sequence.\\n\\nDisabled\\n\\nDisabled\\n\\nEnabled\\n\\nDisabled\\n\\nAdvancedMode\\n\\n0\\n\\nBIOS Setup Advanced Mode\\n\\nDisabling BIOS Setup Advanced Mode will allow access to basic BIOS settings only.Enabling BIOS Setup Advanced Mode will make both basic BIOS settings and advanced BIOS settings visible.\\n\\nEnabled\\n\\nDisabled\\n\\nEnabled\\n\\nEnabled\\n\\nSdCardBoot\\n\\n0\\n\\nEnable Secure Digital (SD) Card Boot\\n\\nClick the checkbox to enable Secure Digital (SD) Card boot.\\n\\nDisabled\\n\\nDisabled\\n\\nEnabled')"
      ]
     },
     "execution_count": 11,
     "metadata": {},
     "output_type": "execute_result"
    }
   ],
   "source": [
    "all_splits[0]"
   ]
  },
  {
   "cell_type": "code",
   "execution_count": null,
   "metadata": {},
   "outputs": [],
   "source": []
  },
  {
   "cell_type": "markdown",
   "metadata": {},
   "source": [
    "# Embeddings"
   ]
  },
  {
   "cell_type": "code",
   "execution_count": 22,
   "metadata": {},
   "outputs": [],
   "source": [
    "from langchain_ollama import OllamaEmbeddings\n",
    "\n",
    "# embeddings = OllamaEmbeddings(model=\"llama3.1\", num_thread=12)\n",
    "embeddings = OllamaEmbeddings(model=\"mxbai-embed-large\", num_thread=12)"
   ]
  },
  {
   "cell_type": "code",
   "execution_count": 23,
   "metadata": {},
   "outputs": [],
   "source": [
    "vector_1 = embeddings.embed_query(all_splits[0].page_content)\n",
    "vector_2 = embeddings.embed_query(all_splits[1].page_content)"
   ]
  },
  {
   "cell_type": "code",
   "execution_count": 24,
   "metadata": {},
   "outputs": [
    {
     "name": "stdout",
     "output_type": "stream",
     "text": [
      "Generated vectors of length 1024\n",
      "\n",
      "[-0.026513359, 0.04238228, 0.023390831, 0.00047690442, -0.014362901, 0.017256204, 0.014094396, -0.014118202, 0.00017724487, 0.07668811]\n"
     ]
    }
   ],
   "source": [
    "assert len(vector_1) == len(vector_2)\n",
    "print(f\"Generated vectors of length {len(vector_1)}\\n\")\n",
    "print(vector_1[:10])"
   ]
  },
  {
   "cell_type": "code",
   "execution_count": null,
   "metadata": {},
   "outputs": [],
   "source": []
  },
  {
   "cell_type": "code",
   "execution_count": null,
   "metadata": {},
   "outputs": [],
   "source": []
  },
  {
   "cell_type": "markdown",
   "metadata": {},
   "source": [
    "# Vector stores"
   ]
  },
  {
   "cell_type": "code",
   "execution_count": 25,
   "metadata": {},
   "outputs": [],
   "source": [
    "from langchain_core.vectorstores import InMemoryVectorStore\n",
    "\n",
    "vector_store = InMemoryVectorStore(embeddings)"
   ]
  },
  {
   "cell_type": "code",
   "execution_count": 26,
   "metadata": {},
   "outputs": [],
   "source": [
    "ids = vector_store.add_documents(documents=all_splits)"
   ]
  },
  {
   "cell_type": "code",
   "execution_count": null,
   "metadata": {},
   "outputs": [],
   "source": []
  },
  {
   "cell_type": "markdown",
   "metadata": {},
   "source": [
    "# Usage"
   ]
  },
  {
   "cell_type": "code",
   "execution_count": 29,
   "metadata": {},
   "outputs": [
    {
     "name": "stdout",
     "output_type": "stream",
     "text": [
      "page_content='Disabled\n",
      "\n",
      "Disabled\n",
      "\n",
      "Enabled\n",
      "\n",
      "Disabled\n",
      "\n",
      "SecureBootMode\n",
      "\n",
      "0\n",
      "\n",
      "Secure Boot Mode\n",
      "\n",
      "Changes to the Secure Boot operation mode modifies the behavior of Secure Boot to allow evaluation or enforcement of UEFI driver signatures. Deployed Mode should be selected for normal operation of Secure Boot.Deployed Mode - Checks the integrity of UEFI drivers and bootloaders before allowing execution. Use this mode for full Secure Boot protections.Audit Mode - Performs a signature check but does not block execution of all UEFI drivers and bootloaders.  Use this mode when making modifications to Secure Boot Keys.\n",
      "\n",
      "DeployedMode\n",
      "\n",
      "DeployedMode\n",
      "\n",
      "AuditMode\n",
      "\n",
      "DeployedMode\n",
      "\n",
      "Camera\n",
      "\n",
      "0\n",
      "\n",
      "Enable Camera\n",
      "\n",
      "Click the checkbox to enable the Camera.\n",
      "\n",
      "Enabled\n",
      "\n",
      "Disabled\n",
      "\n",
      "Enabled\n",
      "\n",
      "Enabled\n",
      "\n",
      "IntegratedAudio\n",
      "\n",
      "0\n",
      "\n",
      "Enable Audio\n",
      "\n",
      "Use this setting to switch all integrated audio On/Off, or enable/disable the microphone and the internal speaker separately.\n",
      "\n",
      "Enabled\n",
      "\n",
      "Disabled\n",
      "\n",
      "Enabled\n",
      "\n",
      "Enabled\n",
      "\n",
      "Microphone\n",
      "\n",
      "0\n",
      "\n",
      "Enable Microphone\n",
      "\n",
      "Disabled' metadata={'source': 'C:/Users/Aaditya_More/Downloads/coding_dell/rag-main/cleaned_xml.xml', 'start_index': 1421}\n"
     ]
    }
   ],
   "source": [
    "results = vector_store.similarity_search(\n",
    "    \"what are the camera options\"\n",
    ")\n",
    "\n",
    "print(results[0])"
   ]
  },
  {
   "cell_type": "code",
   "execution_count": 31,
   "metadata": {},
   "outputs": [
    {
     "data": {
      "text/plain": [
       "4"
      ]
     },
     "execution_count": 31,
     "metadata": {},
     "output_type": "execute_result"
    }
   ],
   "source": [
    "len(results)"
   ]
  },
  {
   "cell_type": "code",
   "execution_count": 32,
   "metadata": {},
   "outputs": [
    {
     "name": "stdout",
     "output_type": "stream",
     "text": [
      "Score: 0.6185881459774383\n",
      "\n",
      "page_content='Disabled\n",
      "\n",
      "Disabled\n",
      "\n",
      "Enabled\n",
      "\n",
      "Disabled\n",
      "\n",
      "SecureBootMode\n",
      "\n",
      "0\n",
      "\n",
      "Secure Boot Mode\n",
      "\n",
      "Changes to the Secure Boot operation mode modifies the behavior of Secure Boot to allow evaluation or enforcement of UEFI driver signatures. Deployed Mode should be selected for normal operation of Secure Boot.Deployed Mode - Checks the integrity of UEFI drivers and bootloaders before allowing execution. Use this mode for full Secure Boot protections.Audit Mode - Performs a signature check but does not block execution of all UEFI drivers and bootloaders.  Use this mode when making modifications to Secure Boot Keys.\n",
      "\n",
      "DeployedMode\n",
      "\n",
      "DeployedMode\n",
      "\n",
      "AuditMode\n",
      "\n",
      "DeployedMode\n",
      "\n",
      "Camera\n",
      "\n",
      "0\n",
      "\n",
      "Enable Camera\n",
      "\n",
      "Click the checkbox to enable the Camera.\n",
      "\n",
      "Enabled\n",
      "\n",
      "Disabled\n",
      "\n",
      "Enabled\n",
      "\n",
      "Enabled\n",
      "\n",
      "IntegratedAudio\n",
      "\n",
      "0\n",
      "\n",
      "Enable Audio\n",
      "\n",
      "Use this setting to switch all integrated audio On/Off, or enable/disable the microphone and the internal speaker separately.\n",
      "\n",
      "Enabled\n",
      "\n",
      "Disabled\n",
      "\n",
      "Enabled\n",
      "\n",
      "Enabled\n",
      "\n",
      "Microphone\n",
      "\n",
      "0\n",
      "\n",
      "Enable Microphone\n",
      "\n",
      "Disabled' metadata={'source': 'C:/Users/Aaditya_More/Downloads/coding_dell/rag-main/cleaned_xml.xml', 'start_index': 1421}\n"
     ]
    }
   ],
   "source": [
    "results = vector_store.similarity_search_with_score(\"How do i disable camera\")\n",
    "doc, score = results[0]\n",
    "print(f\"Score: {score}\\n\")\n",
    "print(doc)"
   ]
  },
  {
   "cell_type": "code",
   "execution_count": 33,
   "metadata": {},
   "outputs": [
    {
     "name": "stdout",
     "output_type": "stream",
     "text": [
      "page_content='Disabled\n",
      "\n",
      "Disabled\n",
      "\n",
      "Enabled\n",
      "\n",
      "Disabled\n",
      "\n",
      "SecureBootMode\n",
      "\n",
      "0\n",
      "\n",
      "Secure Boot Mode\n",
      "\n",
      "Changes to the Secure Boot operation mode modifies the behavior of Secure Boot to allow evaluation or enforcement of UEFI driver signatures. Deployed Mode should be selected for normal operation of Secure Boot.Deployed Mode - Checks the integrity of UEFI drivers and bootloaders before allowing execution. Use this mode for full Secure Boot protections.Audit Mode - Performs a signature check but does not block execution of all UEFI drivers and bootloaders.  Use this mode when making modifications to Secure Boot Keys.\n",
      "\n",
      "DeployedMode\n",
      "\n",
      "DeployedMode\n",
      "\n",
      "AuditMode\n",
      "\n",
      "DeployedMode\n",
      "\n",
      "Camera\n",
      "\n",
      "0\n",
      "\n",
      "Enable Camera\n",
      "\n",
      "Click the checkbox to enable the Camera.\n",
      "\n",
      "Enabled\n",
      "\n",
      "Disabled\n",
      "\n",
      "Enabled\n",
      "\n",
      "Enabled\n",
      "\n",
      "IntegratedAudio\n",
      "\n",
      "0\n",
      "\n",
      "Enable Audio\n",
      "\n",
      "Use this setting to switch all integrated audio On/Off, or enable/disable the microphone and the internal speaker separately.\n",
      "\n",
      "Enabled\n",
      "\n",
      "Disabled\n",
      "\n",
      "Enabled\n",
      "\n",
      "Enabled\n",
      "\n",
      "Microphone\n",
      "\n",
      "0\n",
      "\n",
      "Enable Microphone\n",
      "\n",
      "Disabled' metadata={'source': 'C:/Users/Aaditya_More/Downloads/coding_dell/rag-main/cleaned_xml.xml', 'start_index': 1421}\n"
     ]
    }
   ],
   "source": [
    "embedding = embeddings.embed_query(\"How do i disable camera\")\n",
    "\n",
    "results = vector_store.similarity_search_by_vector(embedding)\n",
    "print(results[0])"
   ]
  },
  {
   "cell_type": "code",
   "execution_count": 35,
   "metadata": {},
   "outputs": [
    {
     "name": "stdout",
     "output_type": "stream",
     "text": [
      "page_content='Disabled\n",
      "\n",
      "Disabled\n",
      "\n",
      "Enabled\n",
      "\n",
      "Disabled\n",
      "\n",
      "SecureBootMode\n",
      "\n",
      "0\n",
      "\n",
      "Secure Boot Mode\n",
      "\n",
      "Changes to the Secure Boot operation mode modifies the behavior of Secure Boot to allow evaluation or enforcement of UEFI driver signatures. Deployed Mode should be selected for normal operation of Secure Boot.Deployed Mode - Checks the integrity of UEFI drivers and bootloaders before allowing execution. Use this mode for full Secure Boot protections.Audit Mode - Performs a signature check but does not block execution of all UEFI drivers and bootloaders.  Use this mode when making modifications to Secure Boot Keys.\n",
      "\n",
      "DeployedMode\n",
      "\n",
      "DeployedMode\n",
      "\n",
      "AuditMode\n",
      "\n",
      "DeployedMode\n",
      "\n",
      "Camera\n",
      "\n",
      "0\n",
      "\n",
      "Enable Camera\n",
      "\n",
      "Click the checkbox to enable the Camera.\n",
      "\n",
      "Enabled\n",
      "\n",
      "Disabled\n",
      "\n",
      "Enabled\n",
      "\n",
      "Enabled\n",
      "\n",
      "IntegratedAudio\n",
      "\n",
      "0\n",
      "\n",
      "Enable Audio\n",
      "\n",
      "Use this setting to switch all integrated audio On/Off, or enable/disable the microphone and the internal speaker separately.\n",
      "\n",
      "Enabled\n",
      "\n",
      "Disabled\n",
      "\n",
      "Enabled\n",
      "\n",
      "Enabled\n",
      "\n",
      "Microphone\n",
      "\n",
      "0\n",
      "\n",
      "Enable Microphone\n",
      "\n",
      "Disabled' metadata={'source': 'C:/Users/Aaditya_More/Downloads/coding_dell/rag-main/cleaned_xml.xml', 'start_index': 1421}\n"
     ]
    }
   ],
   "source": [
    "## async query\n",
    "results = await vector_store.asimilarity_search(\"How do i disable camera\")\n",
    "\n",
    "print(results[0])"
   ]
  },
  {
   "cell_type": "code",
   "execution_count": null,
   "metadata": {},
   "outputs": [],
   "source": []
  },
  {
   "cell_type": "markdown",
   "metadata": {},
   "source": [
    "# Retrievers"
   ]
  },
  {
   "cell_type": "code",
   "execution_count": null,
   "metadata": {},
   "outputs": [],
   "source": []
  }
 ],
 "metadata": {
  "kernelspec": {
   "display_name": "Python 3.11.9 64-bit ('3.11.9')",
   "language": "python",
   "name": "python3"
  },
  "language_info": {
   "codemirror_mode": {
    "name": "ipython",
    "version": 3
   },
   "file_extension": ".py",
   "mimetype": "text/x-python",
   "name": "python",
   "nbconvert_exporter": "python",
   "pygments_lexer": "ipython3",
   "version": "3.11.9"
  },
  "orig_nbformat": 4,
  "vscode": {
   "interpreter": {
    "hash": "507e88824eaada3a6be489f58bad88f21ca9cc03a3dd7b7e1d86d30b5f09cf24"
   }
  }
 },
 "nbformat": 4,
 "nbformat_minor": 2
}
